{
 "cells": [
  {
   "cell_type": "code",
   "execution_count": 1,
   "id": "73924158",
   "metadata": {},
   "outputs": [],
   "source": [
    "import requests\n",
    "from selenium import webdriver\n",
    "from selenium.webdriver.common.by import By\n",
    "from selenium.webdriver.support.ui import WebDriverWait\n",
    "from selenium.webdriver.support import expected_conditions as EC\n",
    "from os import system\n",
    "import multiprocessing.dummy\n",
    "import subprocess"
   ]
  },
  {
   "cell_type": "code",
   "execution_count": 2,
   "id": "35bbadab",
   "metadata": {},
   "outputs": [],
   "source": [
    "def getID(artist):\n",
    "    '''Returns an int of the Id number related to a certain artist, requires name as a string.'''\n",
    "    \n",
    "    url_search = \"search/artist?\"\n",
    "    params = {'q': artist}\n",
    "    response = requests.get(url_base + url_search, params=params)\n",
    "    \n",
    "    return response.json()['data'][0]['id']"
   ]
  },
  {
   "cell_type": "code",
   "execution_count": 3,
   "id": "2261a5a0",
   "metadata": {},
   "outputs": [],
   "source": [
    "def getSongs(Id, limit = 20):\n",
    "    '''Returns a list of 50 most popular songs by artist, requires Id and limit as integers.'''\n",
    "    \n",
    "    url_songs = f'artist/{str(Id)}/top?limit={str(limit)}'\n",
    "    response = requests.get(url_base + url_songs)\n",
    "    \n",
    "    return [i['title_short'] for i in response.json()['data']]"
   ]
  },
  {
   "cell_type": "code",
   "execution_count": 4,
   "id": "b70b2110",
   "metadata": {},
   "outputs": [],
   "source": [
    "def getURLs(artist, songs):\n",
    "    '''Gets artist and title, returning a list of urls of the videos.'''\n",
    "    \n",
    "    url_youtube = 'https://www.youtube.com/results?search_query='\n",
    "    \n",
    "    arr = []\n",
    "    \n",
    "    for title in songs:\n",
    "        if '/' in title:\n",
    "            temp_list = title.split('/')\n",
    "            for item in temp_list:\n",
    "                getURLs(artist, item.strip())\n",
    "        else:\n",
    "            searchUrl = url_youtube + artist.replace(' ', '+') + '+' + title.replace(' ', '+') + '+lyrics'\n",
    "\n",
    "            op = webdriver.ChromeOptions()\n",
    "            op.add_argument('headless')\n",
    "            driver = webdriver.Chrome(options=op)        \n",
    "            driver.get(searchUrl)\n",
    "            wait = WebDriverWait(driver, 5)\n",
    "            video_loaded = wait.until(EC.presence_of_all_elements_located((By.XPATH, '//*[@id=\"video-title\"]')))\n",
    "\n",
    "            video_url = [link.get_attribute('href') for link in video_loaded][0]\n",
    "            \n",
    "            arr.append({'artist': artist, 'title': title, 'url': video_url})\n",
    "            \n",
    "    return arr"
   ]
  },
  {
   "cell_type": "code",
   "execution_count": 5,
   "id": "8b29469f",
   "metadata": {},
   "outputs": [],
   "source": [
    "def downloadSongs(arr):\n",
    "    '''Gets artist, title and urls, downloads and saves file.'''\n",
    "    \n",
    "    pathToSave = '/media/rodrigo/Data/Auto-Artist-Downloaders/Songs/'       \n",
    "\n",
    "    \n",
    "    system(\"youtube-dl -x --audio-format mp3 -q -o \\'\" + pathToSave + arr['artist'] +\\\n",
    "                           '/' + arr['title'] + \".%(ext)s\\' \\'\" + arr['url'] + \"\\'\")\n",
    "    \n",
    "    \n",
    "    \n",
    "#     if type(video_url) == str:\n",
    "#         print(\"Downloading \" + title + \" from \" + video_url)\n",
    "\n",
    "#         system(\"youtube-dl -x --audio-format mp3 -q -o \\'\" + pathToSave + title +\\\n",
    "#             \".%(ext)s\\' \\'\" + video_url + \"\\'\")\n",
    "#         print(\"Downloaded \" + title + \"\\n\")\n",
    "#     else:\n",
    "#         print(\"Unable to download file\")"
   ]
  },
  {
   "cell_type": "code",
   "execution_count": 6,
   "id": "68f01ba5",
   "metadata": {},
   "outputs": [],
   "source": [
    "url_base = 'https://api.deezer.com/'"
   ]
  },
  {
   "cell_type": "code",
   "execution_count": 11,
   "id": "52f5c61a",
   "metadata": {},
   "outputs": [
    {
     "name": "stdout",
     "output_type": "stream",
     "text": [
      "Nome do cantor: Elvis Presley\n",
      "Número de músicas desejadas: 30\n"
     ]
    }
   ],
   "source": [
    "artist = input(\"Nome do cantor: \")\n",
    "limit = int(input(\"Número de músicas desejadas: \"))"
   ]
  },
  {
   "cell_type": "code",
   "execution_count": 12,
   "id": "3846a6fd",
   "metadata": {},
   "outputs": [
    {
     "data": {
      "text/plain": [
       "1125"
      ]
     },
     "execution_count": 12,
     "metadata": {},
     "output_type": "execute_result"
    }
   ],
   "source": [
    "Id = getID(artist)\n",
    "Id"
   ]
  },
  {
   "cell_type": "code",
   "execution_count": 13,
   "id": "c0f3234a",
   "metadata": {},
   "outputs": [
    {
     "data": {
      "text/plain": [
       "['Jailhouse Rock',\n",
       " \"Can't Help Falling In Love\",\n",
       " 'Suspicious Minds',\n",
       " 'Always On My Mind',\n",
       " 'Always on My Mind',\n",
       " 'Cant Help Falling In Love',\n",
       " \"Let's Twist Again / The Twist / Move It / Dynamite / You Keep a Knocking / Long Tall Sally / King Creole / Great Balls of Fire / W\",\n",
       " 'My Way',\n",
       " 'Suspicious Minds',\n",
       " 'Bridge Over Troubled Water',\n",
       " 'A Little Less Conversation',\n",
       " 'A Little Less Conversation',\n",
       " \"Can't Help Falling In Love\",\n",
       " 'Suspicious Minds',\n",
       " \"It's Now or Never\",\n",
       " 'Burning Love',\n",
       " \"Can't Help Falling in Love\",\n",
       " 'Bridge Over Troubled Water',\n",
       " 'Love Me Tender',\n",
       " 'Suspicious Minds',\n",
       " \"(You're The) Devil in Disguise\",\n",
       " 'Unchained Melody',\n",
       " 'Blue Suede Shoes',\n",
       " 'Kiss Me Quick',\n",
       " 'Amazing Grace',\n",
       " 'Always On My Mind',\n",
       " \"Can't Help Falling In Love\",\n",
       " 'Burning Love',\n",
       " \"Don't Be Cruel\",\n",
       " \"Your Cheatin' Heart / You Don't Know Me / I'm Sorry / My Prayer / Sixteen Candles / Don't Blame Me / Can't Help Falling in Love / \"]"
      ]
     },
     "execution_count": 13,
     "metadata": {},
     "output_type": "execute_result"
    }
   ],
   "source": [
    "songs = getSongs(Id, limit)\n",
    "songs"
   ]
  },
  {
   "cell_type": "code",
   "execution_count": 14,
   "id": "6cb7d6ee",
   "metadata": {},
   "outputs": [
    {
     "data": {
      "text/plain": [
       "[{'artist': 'Elvis Presley',\n",
       "  'title': 'Jailhouse Rock',\n",
       "  'url': 'https://www.youtube.com/watch?v=6FhbcmgIADQ'},\n",
       " {'artist': 'Elvis Presley',\n",
       "  'title': \"Can't Help Falling In Love\",\n",
       "  'url': 'https://www.youtube.com/watch?v=KnhamPnvXuQ'},\n",
       " {'artist': 'Elvis Presley',\n",
       "  'title': 'Suspicious Minds',\n",
       "  'url': 'https://www.youtube.com/watch?v=7D5VekM6YWM'},\n",
       " {'artist': 'Elvis Presley',\n",
       "  'title': 'Always On My Mind',\n",
       "  'url': 'https://www.youtube.com/watch?v=d4lVk_vtZ-8'},\n",
       " {'artist': 'Elvis Presley',\n",
       "  'title': 'Always on My Mind',\n",
       "  'url': 'https://www.youtube.com/watch?v=d4lVk_vtZ-8'},\n",
       " {'artist': 'Elvis Presley',\n",
       "  'title': 'Cant Help Falling In Love',\n",
       "  'url': 'https://www.youtube.com/watch?v=KnhamPnvXuQ'},\n",
       " {'artist': 'Elvis Presley',\n",
       "  'title': 'My Way',\n",
       "  'url': 'https://www.youtube.com/watch?v=jVqAuhzba-I'},\n",
       " {'artist': 'Elvis Presley',\n",
       "  'title': 'Suspicious Minds',\n",
       "  'url': 'https://www.youtube.com/watch?v=7D5VekM6YWM'},\n",
       " {'artist': 'Elvis Presley',\n",
       "  'title': 'Bridge Over Troubled Water',\n",
       "  'url': 'https://www.youtube.com/watch?v=moBVXrPObEM'},\n",
       " {'artist': 'Elvis Presley',\n",
       "  'title': 'A Little Less Conversation',\n",
       "  'url': 'https://www.youtube.com/watch?v=13OXUhtXrJk'},\n",
       " {'artist': 'Elvis Presley',\n",
       "  'title': 'A Little Less Conversation',\n",
       "  'url': 'https://www.youtube.com/watch?v=13OXUhtXrJk'},\n",
       " {'artist': 'Elvis Presley',\n",
       "  'title': \"Can't Help Falling In Love\",\n",
       "  'url': 'https://www.youtube.com/watch?v=KnhamPnvXuQ'},\n",
       " {'artist': 'Elvis Presley',\n",
       "  'title': 'Suspicious Minds',\n",
       "  'url': 'https://www.youtube.com/watch?v=7D5VekM6YWM'},\n",
       " {'artist': 'Elvis Presley',\n",
       "  'title': \"It's Now or Never\",\n",
       "  'url': 'https://www.youtube.com/watch?v=quosahdp8LM'},\n",
       " {'artist': 'Elvis Presley',\n",
       "  'title': 'Burning Love',\n",
       "  'url': 'https://www.youtube.com/watch?v=REHLFCR4y0I'},\n",
       " {'artist': 'Elvis Presley',\n",
       "  'title': \"Can't Help Falling in Love\",\n",
       "  'url': 'https://www.youtube.com/watch?v=KnhamPnvXuQ'},\n",
       " {'artist': 'Elvis Presley',\n",
       "  'title': 'Bridge Over Troubled Water',\n",
       "  'url': 'https://www.youtube.com/watch?v=moBVXrPObEM'},\n",
       " {'artist': 'Elvis Presley',\n",
       "  'title': 'Love Me Tender',\n",
       "  'url': 'https://www.youtube.com/watch?v=VZE1d_V-hys'},\n",
       " {'artist': 'Elvis Presley',\n",
       "  'title': 'Suspicious Minds',\n",
       "  'url': 'https://www.youtube.com/watch?v=7D5VekM6YWM'},\n",
       " {'artist': 'Elvis Presley',\n",
       "  'title': \"(You're The) Devil in Disguise\",\n",
       "  'url': 'https://www.youtube.com/watch?v=2wQFaX83l1E'},\n",
       " {'artist': 'Elvis Presley',\n",
       "  'title': 'Unchained Melody',\n",
       "  'url': 'https://www.youtube.com/watch?v=2IA_Vabc7uc'},\n",
       " {'artist': 'Elvis Presley',\n",
       "  'title': 'Blue Suede Shoes',\n",
       "  'url': 'https://www.youtube.com/watch?v=bYMfsUgbhN4'},\n",
       " {'artist': 'Elvis Presley',\n",
       "  'title': 'Kiss Me Quick',\n",
       "  'url': 'https://www.youtube.com/watch?v=OB-YD47ddWI'},\n",
       " {'artist': 'Elvis Presley',\n",
       "  'title': 'Amazing Grace',\n",
       "  'url': 'https://www.youtube.com/watch?v=X-_uHUyaIRk'},\n",
       " {'artist': 'Elvis Presley',\n",
       "  'title': 'Always On My Mind',\n",
       "  'url': 'https://www.youtube.com/watch?v=d4lVk_vtZ-8'},\n",
       " {'artist': 'Elvis Presley',\n",
       "  'title': \"Can't Help Falling In Love\",\n",
       "  'url': 'https://www.youtube.com/watch?v=KnhamPnvXuQ'},\n",
       " {'artist': 'Elvis Presley',\n",
       "  'title': 'Burning Love',\n",
       "  'url': 'https://www.youtube.com/watch?v=REHLFCR4y0I'},\n",
       " {'artist': 'Elvis Presley',\n",
       "  'title': \"Don't Be Cruel\",\n",
       "  'url': 'https://www.youtube.com/watch?v=oou1AUHqJFw'}]"
      ]
     },
     "execution_count": 14,
     "metadata": {},
     "output_type": "execute_result"
    }
   ],
   "source": [
    "arr = getURLs(artist, songs)\n",
    "arr"
   ]
  },
  {
   "cell_type": "code",
   "execution_count": 16,
   "id": "5469da9f",
   "metadata": {},
   "outputs": [],
   "source": [
    "p = multiprocessing.dummy.Pool(8)"
   ]
  },
  {
   "cell_type": "code",
   "execution_count": 18,
   "id": "344a60b0",
   "metadata": {},
   "outputs": [
    {
     "name": "stderr",
     "output_type": "stream",
     "text": [
      "sh: 1: Syntax error: \"(\" unexpected\n",
      "sh: 1: Syntax error: \"(\" unexpected\n",
      "sh: 1: Syntax error: \"(\" unexpected\n",
      "sh: 1: Syntax error: \"(\" unexpected\n",
      "ERROR: unable to rename file: [Errno 2] No such file or directory: '/media/rodrigo/Data/Auto-Artist-Downloaders/Songs/Elvis Presley/Suspicious Minds.webm.part' -> '/media/rodrigo/Data/Auto-Artist-Downloaders/Songs/Elvis Presley/Suspicious Minds.webm'\n",
      "sh: 1: Syntax error: \")\" unexpected\n",
      "ERROR: unable to rename file: [Errno 2] No such file or directory: '/media/rodrigo/Data/Auto-Artist-Downloaders/Songs/Elvis Presley/Suspicious Minds.webm.part' -> '/media/rodrigo/Data/Auto-Artist-Downloaders/Songs/Elvis Presley/Suspicious Minds.webm'\n",
      "WARNING: Unable to remove downloaded original file\n",
      "sh: 1: Syntax error: \"(\" unexpected\n",
      "ERROR: unable to rename file: [Errno 2] No such file or directory: '/media/rodrigo/Data/Auto-Artist-Downloaders/Songs/Elvis Presley/A Little Less Conversation.m4a.part' -> '/media/rodrigo/Data/Auto-Artist-Downloaders/Songs/Elvis Presley/A Little Less Conversation.m4a'\n",
      "sh: 1: Syntax error: \"(\" unexpected\n"
     ]
    },
    {
     "data": {
      "text/plain": [
       "[None,\n",
       " None,\n",
       " None,\n",
       " None,\n",
       " None,\n",
       " None,\n",
       " None,\n",
       " None,\n",
       " None,\n",
       " None,\n",
       " None,\n",
       " None,\n",
       " None,\n",
       " None,\n",
       " None,\n",
       " None,\n",
       " None,\n",
       " None,\n",
       " None,\n",
       " None,\n",
       " None,\n",
       " None,\n",
       " None,\n",
       " None,\n",
       " None,\n",
       " None,\n",
       " None,\n",
       " None]"
      ]
     },
     "execution_count": 18,
     "metadata": {},
     "output_type": "execute_result"
    }
   ],
   "source": [
    "p.map(downloadSongs, arr)"
   ]
  },
  {
   "cell_type": "code",
   "execution_count": null,
   "id": "3575e0a9",
   "metadata": {},
   "outputs": [],
   "source": []
  },
  {
   "cell_type": "code",
   "execution_count": null,
   "id": "fabab381",
   "metadata": {},
   "outputs": [],
   "source": []
  },
  {
   "cell_type": "code",
   "execution_count": null,
   "id": "d7a83591",
   "metadata": {},
   "outputs": [],
   "source": []
  },
  {
   "cell_type": "code",
   "execution_count": null,
   "id": "fcdf07ab",
   "metadata": {},
   "outputs": [],
   "source": []
  },
  {
   "cell_type": "code",
   "execution_count": null,
   "id": "1bb76bcd",
   "metadata": {},
   "outputs": [],
   "source": []
  }
 ],
 "metadata": {
  "kernelspec": {
   "display_name": "Python 3 (ipykernel)",
   "language": "python",
   "name": "python3"
  },
  "language_info": {
   "codemirror_mode": {
    "name": "ipython",
    "version": 3
   },
   "file_extension": ".py",
   "mimetype": "text/x-python",
   "name": "python",
   "nbconvert_exporter": "python",
   "pygments_lexer": "ipython3",
   "version": "3.8.12"
  },
  "latex_envs": {
   "LaTeX_envs_menu_present": true,
   "autoclose": false,
   "autocomplete": true,
   "bibliofile": "biblio.bib",
   "cite_by": "apalike",
   "current_citInitial": 1,
   "eqLabelWithNumbers": true,
   "eqNumInitial": 1,
   "hotkeys": {
    "equation": "Ctrl-E",
    "itemize": "Ctrl-I"
   },
   "labels_anchors": false,
   "latex_user_defs": false,
   "report_style_numbering": false,
   "user_envs_cfg": false
  },
  "toc": {
   "base_numbering": 1,
   "nav_menu": {},
   "number_sections": true,
   "sideBar": true,
   "skip_h1_title": false,
   "title_cell": "Table of Contents",
   "title_sidebar": "Contents",
   "toc_cell": false,
   "toc_position": {},
   "toc_section_display": true,
   "toc_window_display": false
  }
 },
 "nbformat": 4,
 "nbformat_minor": 5
}
